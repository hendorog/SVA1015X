{
 "cells": [
  {
   "cell_type": "code",
   "execution_count": null,
   "metadata": {},
   "outputs": [],
   "source": [
    "Calibrate using Kirkby cal kit. \n",
    "Then remove the effect of the SMA - N adapter and determine the measurements of the FM503 cal kit.\n"
   ]
  },
  {
   "cell_type": "code",
   "execution_count": 30,
   "metadata": {},
   "outputs": [
    {
     "name": "stdout",
     "output_type": "stream",
     "text": [
      "{'attenuator-0092-limited': 1-Port Network: 'attenuator-0092-limited',  50.0-1500.8125 MHz, 335 pts, z0=[50.+0.j], 'attenuator-0092-reflection-coefficient-at-male-port-with-female-port-unterminated': 1-Port Network: 'attenuator-0092-reflection-coefficient-at-male-port-with-female-port-unterminated',  50.0-7000.0 MHz, 1601 pts, z0=[50.+0.j], 'fake-male-short-0092': 1-Port Network: 'fake-male-short-0092',  50.0-7000.0 MHz, 1601 pts, z0=[50.+0.j], 'male-load-0092': 1-Port Network: 'male-load-0092',  50.0-7000.0 MHz, 1601 pts, z0=[50.+0.j], 'male-open-0092': 1-Port Network: 'male-open-0092',  50.0-7000.0 MHz, 1601 pts, z0=[50.+0.j], 'male-short-0092': 1-Port Network: 'male-short-0092',  50.0-7000.0 MHz, 1601 pts, z0=[50.+0.j]}\n",
      "\n",
      "[2-Port Network: 'Kirkby Male Short',  0.06297-1.412295 GHz, 46 pts, z0=[50.+0.j 50.+0.j], 2-Port Network: 'Kirkby Male Open',  0.06297-1.412295 GHz, 46 pts, z0=[50.+0.j 50.+0.j], 2-Port Network: 'Kirkby Male Load',  0.06297-1.412295 GHz, 46 pts, z0=[50.+0.j 50.+0.j]]\n",
      "Warning: Frequency information doesn't match on ideals[0], attempting to interpolate the ideal[0] Network ..\n"
     ]
    },
    {
     "ename": "IndexError",
     "evalue": "Failed to interpolate. Check frequency of ideals[0].",
     "output_type": "error",
     "traceback": [
      "\u001b[1;31m---------------------------------------------------------------------------\u001b[0m",
      "\u001b[1;31mValueError\u001b[0m                                Traceback (most recent call last)",
      "\u001b[1;32mC:\\ProgramData\\Anaconda3\\lib\\site-packages\\skrf\\calibration\\calibration.py\u001b[0m in \u001b[0;36m__init__\u001b[1;34m(self, measured, ideals, sloppy_input, is_reciprocal, name, self_calibration, *args, **kwargs)\u001b[0m\n\u001b[0;32m    265\u001b[0m                     self.ideals[k].interpolate_self(\\\n\u001b[1;32m--> 266\u001b[1;33m                         self.measured[0].frequency)\n\u001b[0m\u001b[0;32m    267\u001b[0m                     \u001b[0mprint\u001b[0m\u001b[1;33m(\u001b[0m\u001b[1;34m'Success'\u001b[0m\u001b[1;33m)\u001b[0m\u001b[1;33m\u001b[0m\u001b[1;33m\u001b[0m\u001b[0m\n",
      "\u001b[1;32mC:\\ProgramData\\Anaconda3\\lib\\site-packages\\skrf\\network.py\u001b[0m in \u001b[0;36minterpolate_self\u001b[1;34m(self, freq_or_n, **kwargs)\u001b[0m\n\u001b[0;32m   1965\u001b[0m         '''\n\u001b[1;32m-> 1966\u001b[1;33m         \u001b[0mntwk\u001b[0m \u001b[1;33m=\u001b[0m \u001b[0mself\u001b[0m\u001b[1;33m.\u001b[0m\u001b[0minterpolate\u001b[0m\u001b[1;33m(\u001b[0m\u001b[0mfreq_or_n\u001b[0m\u001b[1;33m,\u001b[0m \u001b[1;33m**\u001b[0m\u001b[0mkwargs\u001b[0m\u001b[1;33m)\u001b[0m\u001b[1;33m\u001b[0m\u001b[1;33m\u001b[0m\u001b[0m\n\u001b[0m\u001b[0;32m   1967\u001b[0m         \u001b[0mself\u001b[0m\u001b[1;33m.\u001b[0m\u001b[0mfrequency\u001b[0m\u001b[1;33m,\u001b[0m \u001b[0mself\u001b[0m\u001b[1;33m.\u001b[0m\u001b[0ms\u001b[0m\u001b[1;33m,\u001b[0m \u001b[0mself\u001b[0m\u001b[1;33m.\u001b[0m\u001b[0mz0\u001b[0m \u001b[1;33m=\u001b[0m \u001b[0mntwk\u001b[0m\u001b[1;33m.\u001b[0m\u001b[0mfrequency\u001b[0m\u001b[1;33m,\u001b[0m \u001b[0mntwk\u001b[0m\u001b[1;33m.\u001b[0m\u001b[0ms\u001b[0m\u001b[1;33m,\u001b[0m \u001b[0mntwk\u001b[0m\u001b[1;33m.\u001b[0m\u001b[0mz0\u001b[0m\u001b[1;33m\u001b[0m\u001b[1;33m\u001b[0m\u001b[0m\n",
      "\u001b[1;32mC:\\ProgramData\\Anaconda3\\lib\\site-packages\\skrf\\network.py\u001b[0m in \u001b[0;36minterpolate\u001b[1;34m(self, freq_or_n, basis, coords, f_kwargs, return_array, **kwargs)\u001b[0m\n\u001b[0;32m   1874\u001b[0m         \u001b[0minterp_z0_im\u001b[0m \u001b[1;33m=\u001b[0m \u001b[0mf_interp\u001b[0m\u001b[1;33m(\u001b[0m\u001b[0mf\u001b[0m\u001b[1;33m,\u001b[0m \u001b[0mself\u001b[0m\u001b[1;33m.\u001b[0m\u001b[0mz0\u001b[0m\u001b[1;33m.\u001b[0m\u001b[0mimag\u001b[0m\u001b[1;33m,\u001b[0m \u001b[0maxis\u001b[0m\u001b[1;33m=\u001b[0m\u001b[1;36m0\u001b[0m\u001b[1;33m,\u001b[0m \u001b[1;33m**\u001b[0m\u001b[0mkwargs\u001b[0m\u001b[1;33m)\u001b[0m\u001b[1;33m\u001b[0m\u001b[1;33m\u001b[0m\u001b[0m\n\u001b[1;32m-> 1875\u001b[1;33m         \u001b[0mresult\u001b[0m\u001b[1;33m.\u001b[0m\u001b[0mz0\u001b[0m \u001b[1;33m=\u001b[0m \u001b[0minterp_z0_re\u001b[0m\u001b[1;33m(\u001b[0m\u001b[0mf_new\u001b[0m\u001b[1;33m)\u001b[0m \u001b[1;33m+\u001b[0m \u001b[1;36m1j\u001b[0m \u001b[1;33m*\u001b[0m \u001b[0minterp_z0_im\u001b[0m\u001b[1;33m(\u001b[0m\u001b[0mf_new\u001b[0m\u001b[1;33m)\u001b[0m\u001b[1;33m\u001b[0m\u001b[1;33m\u001b[0m\u001b[0m\n\u001b[0m\u001b[0;32m   1876\u001b[0m \u001b[1;33m\u001b[0m\u001b[0m\n",
      "\u001b[1;32mC:\\ProgramData\\Anaconda3\\lib\\site-packages\\scipy\\interpolate\\polyint.py\u001b[0m in \u001b[0;36m__call__\u001b[1;34m(self, x)\u001b[0m\n\u001b[0;32m     78\u001b[0m         \u001b[0mx\u001b[0m\u001b[1;33m,\u001b[0m \u001b[0mx_shape\u001b[0m \u001b[1;33m=\u001b[0m \u001b[0mself\u001b[0m\u001b[1;33m.\u001b[0m\u001b[0m_prepare_x\u001b[0m\u001b[1;33m(\u001b[0m\u001b[0mx\u001b[0m\u001b[1;33m)\u001b[0m\u001b[1;33m\u001b[0m\u001b[1;33m\u001b[0m\u001b[0m\n\u001b[1;32m---> 79\u001b[1;33m         \u001b[0my\u001b[0m \u001b[1;33m=\u001b[0m \u001b[0mself\u001b[0m\u001b[1;33m.\u001b[0m\u001b[0m_evaluate\u001b[0m\u001b[1;33m(\u001b[0m\u001b[0mx\u001b[0m\u001b[1;33m)\u001b[0m\u001b[1;33m\u001b[0m\u001b[1;33m\u001b[0m\u001b[0m\n\u001b[0m\u001b[0;32m     80\u001b[0m         \u001b[1;32mreturn\u001b[0m \u001b[0mself\u001b[0m\u001b[1;33m.\u001b[0m\u001b[0m_finish_y\u001b[0m\u001b[1;33m(\u001b[0m\u001b[0my\u001b[0m\u001b[1;33m,\u001b[0m \u001b[0mx_shape\u001b[0m\u001b[1;33m)\u001b[0m\u001b[1;33m\u001b[0m\u001b[1;33m\u001b[0m\u001b[0m\n",
      "\u001b[1;32mC:\\ProgramData\\Anaconda3\\lib\\site-packages\\scipy\\interpolate\\interpolate.py\u001b[0m in \u001b[0;36m_evaluate\u001b[1;34m(self, x_new)\u001b[0m\n\u001b[0;32m    663\u001b[0m         \u001b[1;32mif\u001b[0m \u001b[1;32mnot\u001b[0m \u001b[0mself\u001b[0m\u001b[1;33m.\u001b[0m\u001b[0m_extrapolate\u001b[0m\u001b[1;33m:\u001b[0m\u001b[1;33m\u001b[0m\u001b[1;33m\u001b[0m\u001b[0m\n\u001b[1;32m--> 664\u001b[1;33m             \u001b[0mbelow_bounds\u001b[0m\u001b[1;33m,\u001b[0m \u001b[0mabove_bounds\u001b[0m \u001b[1;33m=\u001b[0m \u001b[0mself\u001b[0m\u001b[1;33m.\u001b[0m\u001b[0m_check_bounds\u001b[0m\u001b[1;33m(\u001b[0m\u001b[0mx_new\u001b[0m\u001b[1;33m)\u001b[0m\u001b[1;33m\u001b[0m\u001b[1;33m\u001b[0m\u001b[0m\n\u001b[0m\u001b[0;32m    665\u001b[0m             \u001b[1;32mif\u001b[0m \u001b[0mlen\u001b[0m\u001b[1;33m(\u001b[0m\u001b[0my_new\u001b[0m\u001b[1;33m)\u001b[0m \u001b[1;33m>\u001b[0m \u001b[1;36m0\u001b[0m\u001b[1;33m:\u001b[0m\u001b[1;33m\u001b[0m\u001b[1;33m\u001b[0m\u001b[0m\n",
      "\u001b[1;32mC:\\ProgramData\\Anaconda3\\lib\\site-packages\\scipy\\interpolate\\interpolate.py\u001b[0m in \u001b[0;36m_check_bounds\u001b[1;34m(self, x_new)\u001b[0m\n\u001b[0;32m    695\u001b[0m         \u001b[1;32mif\u001b[0m \u001b[0mself\u001b[0m\u001b[1;33m.\u001b[0m\u001b[0mbounds_error\u001b[0m \u001b[1;32mand\u001b[0m \u001b[0mabove_bounds\u001b[0m\u001b[1;33m.\u001b[0m\u001b[0many\u001b[0m\u001b[1;33m(\u001b[0m\u001b[1;33m)\u001b[0m\u001b[1;33m:\u001b[0m\u001b[1;33m\u001b[0m\u001b[1;33m\u001b[0m\u001b[0m\n\u001b[1;32m--> 696\u001b[1;33m             raise ValueError(\"A value in x_new is above the interpolation \"\n\u001b[0m\u001b[0;32m    697\u001b[0m                              \"range.\")\n",
      "\u001b[1;31mValueError\u001b[0m: A value in x_new is above the interpolation range.",
      "\nDuring handling of the above exception, another exception occurred:\n",
      "\u001b[1;31mIndexError\u001b[0m                                Traceback (most recent call last)",
      "\u001b[1;32m<ipython-input-30-2271adb44d04>\u001b[0m in \u001b[0;36m<module>\u001b[1;34m\u001b[0m\n\u001b[0;32m     19\u001b[0m cal_1 = rf.OnePort(\n\u001b[0;32m     20\u001b[0m     \u001b[0mideals\u001b[0m \u001b[1;33m=\u001b[0m \u001b[1;33m[\u001b[0m\u001b[0midealsKirkby\u001b[0m\u001b[1;33m[\u001b[0m\u001b[0mk\u001b[0m\u001b[1;33m]\u001b[0m\u001b[1;33m[\u001b[0m\u001b[1;34m'55-1400mhz'\u001b[0m\u001b[1;33m]\u001b[0m   \u001b[1;32mfor\u001b[0m \u001b[0mk\u001b[0m \u001b[1;32min\u001b[0m \u001b[1;33m[\u001b[0m\u001b[1;34m'male-short-0092'\u001b[0m\u001b[1;33m,\u001b[0m\u001b[1;34m'male-open-0092'\u001b[0m\u001b[1;33m,\u001b[0m\u001b[1;34m'male-load-0092'\u001b[0m\u001b[1;33m]\u001b[0m\u001b[1;33m]\u001b[0m\u001b[1;33m,\u001b[0m\u001b[1;33m\u001b[0m\u001b[1;33m\u001b[0m\u001b[0m\n\u001b[1;32m---> 21\u001b[1;33m     \u001b[0mmeasured\u001b[0m \u001b[1;33m=\u001b[0m \u001b[1;33m[\u001b[0m\u001b[0mmeasuredKirkby\u001b[0m\u001b[1;33m[\u001b[0m\u001b[0mk\u001b[0m\u001b[1;33m]\u001b[0m\u001b[1;33m[\u001b[0m\u001b[1;34m'55-1400mhz'\u001b[0m\u001b[1;33m]\u001b[0m \u001b[1;32mfor\u001b[0m \u001b[0mk\u001b[0m \u001b[1;32min\u001b[0m \u001b[1;33m[\u001b[0m\u001b[1;34m'Kirkby Male Short'\u001b[0m\u001b[1;33m,\u001b[0m\u001b[1;34m'Kirkby Male Open'\u001b[0m\u001b[1;33m,\u001b[0m\u001b[1;34m'Kirkby Male Load'\u001b[0m\u001b[1;33m]\u001b[0m\u001b[1;33m]\u001b[0m\u001b[1;33m,\u001b[0m\u001b[1;33m\u001b[0m\u001b[1;33m\u001b[0m\u001b[0m\n\u001b[0m\u001b[0;32m     22\u001b[0m     )\n\u001b[0;32m     23\u001b[0m \u001b[1;33m\u001b[0m\u001b[0m\n",
      "\u001b[1;32mC:\\ProgramData\\Anaconda3\\lib\\site-packages\\skrf\\calibration\\calibration.py\u001b[0m in \u001b[0;36m__init__\u001b[1;34m(self, measured, ideals, *args, **kwargs)\u001b[0m\n\u001b[0;32m   1016\u001b[0m         '''\n\u001b[0;32m   1017\u001b[0m         Calibration.__init__(self, measured, ideals,\n\u001b[1;32m-> 1018\u001b[1;33m                              *args, **kwargs)\n\u001b[0m\u001b[0;32m   1019\u001b[0m \u001b[1;33m\u001b[0m\u001b[0m\n\u001b[0;32m   1020\u001b[0m     \u001b[1;32mdef\u001b[0m \u001b[0mrun\u001b[0m\u001b[1;33m(\u001b[0m\u001b[0mself\u001b[0m\u001b[1;33m)\u001b[0m\u001b[1;33m:\u001b[0m\u001b[1;33m\u001b[0m\u001b[1;33m\u001b[0m\u001b[0m\n",
      "\u001b[1;32mC:\\ProgramData\\Anaconda3\\lib\\site-packages\\skrf\\calibration\\calibration.py\u001b[0m in \u001b[0;36m__init__\u001b[1;34m(self, measured, ideals, sloppy_input, is_reciprocal, name, self_calibration, *args, **kwargs)\u001b[0m\n\u001b[0;32m    268\u001b[0m \u001b[1;33m\u001b[0m\u001b[0m\n\u001b[0;32m    269\u001b[0m                 \u001b[1;32mexcept\u001b[0m\u001b[1;33m:\u001b[0m\u001b[1;33m\u001b[0m\u001b[1;33m\u001b[0m\u001b[0m\n\u001b[1;32m--> 270\u001b[1;33m                     \u001b[1;32mraise\u001b[0m\u001b[1;33m(\u001b[0m\u001b[0mIndexError\u001b[0m\u001b[1;33m(\u001b[0m\u001b[1;34m'Failed to interpolate. Check frequency of ideals[{}].'\u001b[0m\u001b[1;33m.\u001b[0m\u001b[0mformat\u001b[0m\u001b[1;33m(\u001b[0m\u001b[0mk\u001b[0m\u001b[1;33m)\u001b[0m\u001b[1;33m)\u001b[0m\u001b[1;33m)\u001b[0m\u001b[1;33m\u001b[0m\u001b[1;33m\u001b[0m\u001b[0m\n\u001b[0m\u001b[0;32m    271\u001b[0m \u001b[1;33m\u001b[0m\u001b[0m\n\u001b[0;32m    272\u001b[0m \u001b[1;33m\u001b[0m\u001b[0m\n",
      "\u001b[1;31mIndexError\u001b[0m: Failed to interpolate. Check frequency of ideals[0]."
     ]
    }
   ],
   "source": [
    "import skrf as rf\n",
    "from skrf.calibration import OnePort\n",
    "from skrf import Frequency\n",
    "%matplotlib inline\n",
    "from pylab import *\n",
    "rf.stylely()\n",
    "\n",
    "## Measured reference data provided with the Cal Kit\n",
    "idealsKirkby = rf.read_all('../data/ideals/KirkbySN0092/')\n",
    "print (idealsKirkby)\n",
    "\n",
    "print ()\n",
    "\n",
    "## Measurements of Cal Kit on SVA\n",
    "measuredKirkby = rf.read_all('../data/measured/SVA/FM503/')\n",
    "print ( [measuredKirkby[k]['55-1400mhz'] for k in ['Kirkby Male Short','Kirkby Male Open','Kirkby Male Load']])\n",
    "\n",
    "## Calibrate based on Kirkby supplied data with measured data\n",
    "cal_1 = rf.OnePort(\n",
    "    ideals = [idealsKirkby[k]['55-1400mhz']   for k in ['male-short-0092','male-open-0092','male-load-0092']],\n",
    "    measured = [measuredKirkby[k]['55-1400mhz'] for k in ['Kirkby Male Short','Kirkby Male Open','Kirkby Male Load']],\n",
    "    )\n",
    "\n",
    "## Measurements of Cal Kit on SVA. Loading and error correct everything but only chart the attenuator from this set.\n",
    "duts = rf.read_all('../data/measured/SVA/FM503/')\n",
    "\n",
    "caled_dutsKirkby = [cal_1.apply_cal(dut) for dut in duts.values()]\n",
    "\n",
    "caled_dutsKirkby['Kirkby Male Attenuator'].plot_s_db(label='OSL Calibration')\n",
    "\n",
    "idealsKirkby['attenuator-0092-limited'].plot_s_db(label='Reference measurement from Kirkby')"
   ]
  },
  {
   "cell_type": "code",
   "execution_count": null,
   "metadata": {},
   "outputs": [],
   "source": []
  }
 ],
 "metadata": {
  "kernelspec": {
   "display_name": "Python 3",
   "language": "python",
   "name": "python3"
  },
  "language_info": {
   "codemirror_mode": {
    "name": "ipython",
    "version": 3
   },
   "file_extension": ".py",
   "mimetype": "text/x-python",
   "name": "python",
   "nbconvert_exporter": "python",
   "pygments_lexer": "ipython3",
   "version": "3.7.4"
  }
 },
 "nbformat": 4,
 "nbformat_minor": 2
}
