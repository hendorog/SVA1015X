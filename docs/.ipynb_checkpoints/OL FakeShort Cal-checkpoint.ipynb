{
 "cells": [
  {
   "cell_type": "markdown",
   "metadata": {},
   "source": []
  },
  {
   "cell_type": "code",
   "execution_count": 112,
   "metadata": {},
   "outputs": [
    {
     "ename": "SyntaxError",
     "evalue": "invalid syntax (<ipython-input-112-cf1a9073b3a3>, line 33)",
     "output_type": "error",
     "traceback": [
      "\u001b[1;36m  File \u001b[1;32m\"<ipython-input-112-cf1a9073b3a3>\"\u001b[1;36m, line \u001b[1;32m33\u001b[0m\n\u001b[1;33m    caled_dutsKirkby[0].plot_s_db(label='OSL Calibration', args=[figsize=(5,4)])\u001b[0m\n\u001b[1;37m                                                                        ^\u001b[0m\n\u001b[1;31mSyntaxError\u001b[0m\u001b[1;31m:\u001b[0m invalid syntax\n"
     ]
    }
   ],
   "source": [
    "import skrf as rf\n",
    "from skrf.calibration import OnePort\n",
    "%matplotlib inline\n",
    "from pylab import *\n",
    "rf.stylely()\n",
    "\n",
    "## Measured reference data provided with the Cal Kit\n",
    "## Fake Short calculated by rotating Open by 180 degrees\n",
    "idealsKirkby = rf.read_all('data/ideals/KirkbySN0092/')\n",
    "\n",
    "## Measurements of Cal Kit on SVA\n",
    "## Fake Short calculated by rotating Open by 180 degrees\n",
    "measuredKirkby = rf.read_all('data/measured/SVA/KirkbySN0092/')\n",
    "\n",
    "## Measurements of Cal Kit on SVA. Loading and error correct everything but only chart the attenuator from this set.\n",
    "duts = rf.read_all('data/measured/SVA/KirkbySN0092/')\n",
    "\n",
    "## Calibrate based on Kirkby supplied data with measured data\n",
    "cal_1 = rf.OnePort(\n",
    "    ideals = [idealsKirkby[k] for k in ['male-short-0092','male-open-0092','male-load-0092']],\n",
    "    measured = [measuredKirkby[k] for k in ['KirkbyShort','KirkbyOpen','KirkbyLoad']],\n",
    "    )\n",
    "\n",
    "## Calibrate based on Kirkby supplied data with measured data including Faked Short measurement\n",
    "cal_2 = rf.OnePort(\n",
    "    ideals = [idealsKirkby[k] for k in ['fake-male-short-0092','male-open-0092','male-load-0092']],\n",
    "    measured = [measuredKirkby[k] for k in ['KirkbyShortOpen180','KirkbyOpen','KirkbyLoad']],\n",
    "    )\n",
    "\n",
    "caled_dutsKirkby = [cal_1.apply_cal(dut) for dut in duts.values()]\n",
    "caled_dutsKirkbyFakeShort = [cal_2.apply_cal(dut) for dut in duts.values()]\n",
    "\n",
    "caled_dutsKirkby[0].plot_s_db(label='OSL Calibration')\n",
    "caled_dutsKirkbyFakeShort[0].plot_s_db(label='Fake Short Calibration')\n",
    "\n",
    "idealsKirkby['attenuator-0092-limited'].plot_s_db(label='Reference measurement from Kirkby')\n"
   ]
  },
  {
   "cell_type": "code",
   "execution_count": null,
   "metadata": {},
   "outputs": [],
   "source": []
  }
 ],
 "metadata": {
  "kernelspec": {
   "display_name": "Python 3",
   "language": "python",
   "name": "python3"
  },
  "language_info": {
   "codemirror_mode": {
    "name": "ipython",
    "version": 3
   },
   "file_extension": ".py",
   "mimetype": "text/x-python",
   "name": "python",
   "nbconvert_exporter": "python",
   "pygments_lexer": "ipython3",
   "version": "3.7.3"
  }
 },
 "nbformat": 4,
 "nbformat_minor": 2
}
