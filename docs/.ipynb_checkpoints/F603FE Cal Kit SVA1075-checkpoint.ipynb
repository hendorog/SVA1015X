{
 "cells": [
  {
   "cell_type": "code",
   "execution_count": 57,
   "metadata": {},
   "outputs": [
    {
     "ename": "SyntaxError",
     "evalue": "invalid syntax (<ipython-input-57-eab45b1ac920>, line 63)",
     "output_type": "error",
     "traceback": [
      "\u001b[1;36m  File \u001b[1;32m\"<ipython-input-57-eab45b1ac920>\"\u001b[1;36m, line \u001b[1;32m63\u001b[0m\n\u001b[1;33m    @caled_duts[5].plot_s_db()\u001b[0m\n\u001b[1;37m               ^\u001b[0m\n\u001b[1;31mSyntaxError\u001b[0m\u001b[1;31m:\u001b[0m invalid syntax\n"
     ]
    }
   ],
   "source": [
    "# Compare F603FE cal kit to Kirkby cal kit\n",
    "# SVA 1075 has F603FE built in, these sweeps done after calibrating with F603FE\n",
    "\n",
    "import skrf as rf\n",
    "from skrf.calibration import OnePort\n",
    "%matplotlib inline\n",
    "import matplotlib.pyplot as plt\n",
    "from pylab import *\n",
    "rf.stylely()\n",
    "\n",
    "#ideals = rf.read_all('data/ideals/')\n",
    "#measured = rf.read_all('data/measured/')\n",
    "#duts = rf.read_all('data/measured/')\n",
    "ideals = rf.read_all('F603FE/ideals/')\n",
    "measured = rf.read_all('F603FE/measured/')\n",
    "measured_201 = rf.read_all('F603FE/measured_201/')\n",
    "duts = rf.read_all('F603FE/measured/')\n",
    "#duts_201 = rf.read_all('F603FE/measured/201/')\n",
    "sva1015 = rf.read_all('F603FE/ideals/F603FE_SVA1015X')\n",
    "\n",
    "#dc_offset = (measured['short'] + measured['open'])\n",
    "#offset = measured['KirkbyOpen']\n",
    "#offset1 = ideals['male-short-0092'] / ideals['male-open-0092']\n",
    "#measured['offset_open'] = measured['open'] - dc_offset\n",
    "#measured['offset_short'] = measured['short'] - dc_offset\n",
    "#measured['offset_load3'] = measured['load3'] - dc_offset\n",
    "#measured['offset_load4'] = measured['load4'] - dc_offset\n",
    "\n",
    "#duts['offset_load3'] = duts['load3'] - dc_offset\n",
    "#duts['offset_load4'] = duts['load4'] - dc_offset\n",
    "\n",
    "## create a Calibration instance\n",
    "cal = rf.OnePort(\n",
    "    ideals = [ideals[k] for k in ['female-open-0092','female-short-0092','female-load-0092']],\n",
    "    measured = [measured[k] for k in ['kirkby-female-open', 'kirkby-female-short','kirkby-female-load']],\n",
    "    #measured = [measured[k] for k in ['open','short','load4']],\n",
    "    )\n",
    "\n",
    "caled_duts = [cal.apply_cal(dut) for dut in duts.values()]\n",
    "\n",
    "#dc_offset.plot_s_mag()\n",
    "#dc_offset.plot_s_deg()\n",
    "#caled_duts[0].plot_s_db()\n",
    "#caled_duts[1].plot_s_db()\n",
    "#caled_duts[2].plot_s_db()\n",
    "#caled_duts[3].plot_s_db()\n",
    "#caled_duts[4].plot_s_db()\n",
    "#caled_duts[5].plot_s_db()\n",
    "#measured['load'].plot_s_db()\n",
    "measured['kirkby-female-load'].plot_s_db()\n",
    "ideals['female-load-0092'].plot_s_db()\n",
    "\n",
    "#caled_duts[4].plot_s_db()\n",
    "#measured['open'].plot_s_db()\n",
    "#ideals['female-open-0092'].plot_s_db()\n",
    "\n",
    "#measured['open'].plot_s_deg()\n",
    "\n",
    "#measured['short'].plot_s_db()\n",
    "#measured_201['short_201'].plot_s_db()\n",
    "#measured_201['short_201_log'].plot_s_db()\n",
    "#measured['short'].plot_s_smith()\n",
    "#caled_duts[5].plot_s_db()\n",
    "#measured['kirkby-female-short'].plot_s_db()\n",
    "#ideals['female-short-0092'].plot_s_db()\n",
    "#sva1015['65F03E_SHORT'].plot_s_db()\n",
    "#caled_duts[1].plot_s_db()\n",
    "#measured['open'].plot_s_deg()\n",
    "#measured['short'].plot_s_deg()\n",
    "#measured['offset_open'].plot_s_db()\n",
    "#measured['offset_short'].plot_s_db()\n",
    "#measured['load3'].plot_s_db()\n",
    "#measured['offset_load3'].plot_s_db()\n",
    "#measured['offset_load4'].plot_s_db()"
   ]
  },
  {
   "cell_type": "code",
   "execution_count": null,
   "metadata": {},
   "outputs": [],
   "source": []
  },
  {
   "cell_type": "code",
   "execution_count": null,
   "metadata": {},
   "outputs": [],
   "source": []
  }
 ],
 "metadata": {
  "kernelspec": {
   "display_name": "Python 3",
   "language": "python",
   "name": "python3"
  },
  "language_info": {
   "codemirror_mode": {
    "name": "ipython",
    "version": 3
   },
   "file_extension": ".py",
   "mimetype": "text/x-python",
   "name": "python",
   "nbconvert_exporter": "python",
   "pygments_lexer": "ipython3",
   "version": "3.7.4"
  }
 },
 "nbformat": 4,
 "nbformat_minor": 2
}
