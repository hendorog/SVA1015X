{
 "cells": [
  {
   "cell_type": "markdown",
   "metadata": {},
   "source": []
  },
  {
   "cell_type": "code",
   "execution_count": 6,
   "metadata": {},
   "outputs": [
    {
     "name": "stdout",
     "output_type": "stream",
     "text": [
      "Warning: Frequency information doesn't match on ideals[0], attempting to interpolate the ideal[0] Network ..\n",
      "Success\n",
      "Warning: Frequency information doesn't match on ideals[1], attempting to interpolate the ideal[1] Network ..\n",
      "Success\n",
      "Warning: Frequency information doesn't match on ideals[2], attempting to interpolate the ideal[2] Network ..\n",
      "Success\n",
      "Warning: Frequency information doesn't match on ideals[0], attempting to interpolate the ideal[0] Network ..\n",
      "Success\n",
      "Warning: Frequency information doesn't match on ideals[1], attempting to interpolate the ideal[1] Network ..\n",
      "Success\n",
      "Warning: Frequency information doesn't match on ideals[2], attempting to interpolate the ideal[2] Network ..\n",
      "Success\n"
     ]
    },
    {
     "name": "stderr",
     "output_type": "stream",
     "text": [
      "C:\\ProgramData\\Anaconda3\\lib\\site-packages\\skrf\\calibration\\calibration.py:1051: FutureWarning: `rcond` parameter will change to the default of machine precision times ``max(M, N)`` where M and N are the input matrix dimensions.\n",
      "To use the future default and silence this warning we advise to pass `rcond=None`, to keep using the old, explicitly pass `rcond=-1`.\n",
      "  abcTmp, residualsTmp = npy.linalg.lstsq(Q,m)[0:2]\n"
     ]
    }
   ],
   "source": [
    "import skrf as rf\n",
    "from skrf.calibration import OnePort\n",
    "%matplotlib inline\n",
    "from pylab import *\n",
    "rf.stylely()\n",
    "\n",
    "## Measured reference data provided with the Cal Kit\n",
    "## Fake Short calculated by rotating Open by 180 degrees\n",
    "idealsKirkby = rf.read_all('data/ideals/KirkbySN0092/')\n",
    "\n",
    "## Measurements of Cal Kit on SVA\n",
    "## Fake Short calculated by rotating Open by 180 degrees\n",
    "measuredKirkby = rf.read_all('data/measured/SVA/KirkbySN0092/')\n",
    "\n",
    "## Measurements of Cal Kit on SVA. Loading and error correct everything but only chart the attenuator from this set.\n",
    "duts = rf.read_all('data/measured/SVA/KirkbySN0092/')\n",
    "\n",
    "## Calibrate based on Kirkby supplied data with measured data\n",
    "cal_1 = rf.OnePort(\n",
    "    ideals = [idealsKirkby[k] for k in ['male-short-0092','male-open-0092','male-load-0092']],\n",
    "    measured = [measuredKirkby[k] for k in ['KirkbyShort','KirkbyOpen','KirkbyLoad']],\n",
    "    )\n",
    "\n",
    "## Calibrate based on Kirkby supplied data with measured data including Faked Short measurement\n",
    "cal_2 = rf.OnePort(\n",
    "    ideals = [idealsKirkby[k] for k in ['fake-male-short-0092','male-open-0092','male-load-0092']],\n",
    "    measured = [measuredKirkby[k] for k in ['KirkbyShortOpen180','KirkbyOpen','KirkbyLoad']],\n",
    "    )\n",
    "\n",
    "caled_dutsKirkby = [cal_1.apply_cal(dut) for dut in duts.values()]\n",
    "caled_dutsKirkbyFakeShort = [cal_2.apply_cal(dut) for dut in duts.values()]\n",
    "\n",
    "caled_dutsKirkby[0].plot_s_db(label='OSL Calibration')\n",
    "caled_dutsKirkbyFakeShort[0].plot_s_db(label='Fake Short Calibration')\n",
    "\n",
    "#idealsKirkby['male-short-0092'].plot_s_db(label='Reference measurement from Kirkby')\n"
   ]
  },
  {
   "cell_type": "code",
   "execution_count": null,
   "metadata": {},
   "outputs": [],
   "source": []
  }
 ],
 "metadata": {
  "kernelspec": {
   "display_name": "Python 3",
   "language": "python",
   "name": "python3"
  },
  "language_info": {
   "codemirror_mode": {
    "name": "ipython",
    "version": 3
   },
   "file_extension": ".py",
   "mimetype": "text/x-python",
   "name": "python",
   "nbconvert_exporter": "python",
   "pygments_lexer": "ipython3",
   "version": "3.7.3"
  }
 },
 "nbformat": 4,
 "nbformat_minor": 2
}
